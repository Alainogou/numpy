{
 "cells": [
  {
   "cell_type": "markdown",
   "id": "87fd154d-1b87-4095-a2fe-2ff9e6a3ba71",
   "metadata": {},
   "source": [
    "# H1 TITLE\n",
    "\n",
    "## H2 TITLE"
   ]
  },
  {
   "cell_type": "code",
   "execution_count": 1,
   "id": "faa64e0c-f2d4-4dfa-a070-5dcd2c480122",
   "metadata": {},
   "outputs": [
    {
     "name": "stdout",
     "output_type": "stream",
     "text": [
      "Buy the dip ?\n"
     ]
    }
   ],
   "source": [
    "print(\"Buy the dip ?\")"
   ]
  },
  {
   "cell_type": "code",
   "execution_count": 3,
   "id": "29dffdfb-7d5f-488c-b0e8-26985394f982",
   "metadata": {},
   "outputs": [
    {
     "name": "stdout",
     "output_type": "stream",
     "text": [
      "<class 'numpy.ndarray'>\n",
      "<class 'int'>\n",
      "<class 'float'>\n",
      "<class 'str'>\n",
      "<class 'dict'>\n",
      "<class 'list'>\n",
      "<class 'tuple'>\n",
      "<class 'set'>\n",
      "<class 'bool'>\n"
     ]
    }
   ],
   "source": [
    "#Exercice 1\n",
    "\n",
    "import numpy as np\n",
    "your_np_array = np.array([\n",
    "    42,                           # integer\n",
    "    5.14,                         # float\n",
    "    \"Hello\",                      # string\n",
    "    {'key': 'value'},             # dictionary\n",
    "    [1, 2, 3],                    # list\n",
    "    (4, 5),                       # tuple\n",
    "    {1, 2, 3},                    # set\n",
    "    True                          # boolean\n",
    "], dtype=object)\n",
    "print( type(your_np_array))\n",
    "##code adding\n",
    "for i in your_np_array:\n",
    "    print(type(i))"
   ]
  },
  {
   "cell_type": "code",
   "execution_count": 133,
   "id": "59777279-d7c0-4a0a-b5b1-7bc0e5069561",
   "metadata": {},
   "outputs": [
    {
     "name": "stdout",
     "output_type": "stream",
     "text": [
      "[[0. 0. 0. 0. 0. 0. 0. 0. 0. 0. 0. 0. 0. 0. 0. 0. 0. 0. 0. 0. 0. 0. 0. 0.\n",
      "  0. 0. 0. 0. 0. 0. 0. 0. 0. 0. 0. 0. 0. 0. 0. 0. 0. 0. 0. 0. 0. 0. 0. 0.\n",
      "  0. 0. 0. 0. 0. 0. 0. 0. 0. 0. 0. 0. 0. 0. 0. 0. 0. 0. 0. 0. 0. 0. 0. 0.\n",
      "  0. 0. 0. 0. 0. 0. 0. 0. 0. 0. 0. 0. 0. 0. 0. 0. 0. 0. 0. 0. 0. 0. 0. 0.\n",
      "  0. 0. 0. 0.]\n",
      " [0. 0. 0. 0. 0. 0. 0. 0. 0. 0. 0. 0. 0. 0. 0. 0. 0. 0. 0. 0. 0. 0. 0. 0.\n",
      "  0. 0. 0. 0. 0. 0. 0. 0. 0. 0. 0. 0. 0. 0. 0. 0. 0. 0. 0. 0. 0. 0. 0. 0.\n",
      "  0. 0. 0. 0. 0. 0. 0. 0. 0. 0. 0. 0. 0. 0. 0. 0. 0. 0. 0. 0. 0. 0. 0. 0.\n",
      "  0. 0. 0. 0. 0. 0. 0. 0. 0. 0. 0. 0. 0. 0. 0. 0. 0. 0. 0. 0. 0. 0. 0. 0.\n",
      "  0. 0. 0. 0.]\n",
      " [0. 0. 0. 0. 0. 0. 0. 0. 0. 0. 0. 0. 0. 0. 0. 0. 0. 0. 0. 0. 0. 0. 0. 0.\n",
      "  0. 0. 0. 0. 0. 0. 0. 0. 0. 0. 0. 0. 0. 0. 0. 0. 0. 0. 0. 0. 0. 0. 0. 0.\n",
      "  0. 0. 0. 0. 0. 0. 0. 0. 0. 0. 0. 0. 0. 0. 0. 0. 0. 0. 0. 0. 0. 0. 0. 0.\n",
      "  0. 0. 0. 0. 0. 0. 0. 0. 0. 0. 0. 0. 0. 0. 0. 0. 0. 0. 0. 0. 0. 0. 0. 0.\n",
      "  0. 0. 0. 0.]]\n"
     ]
    }
   ],
   "source": [
    "#Exercice 2\n",
    "import numpy as np\n",
    "# Créer un tableau NumPy de dimension 300 rempli de zéros\n",
    "array_zeros = np.zeros(300)\n",
    "\n",
    "# Remodeler le tableau en (3, 100)\n",
    "array_reshaped = array_zeros.reshape(3, 100)\n",
    "\n",
    "# Afficher le tableau remodelé\n",
    "print(array_reshaped)\n"
   ]
  },
  {
   "cell_type": "code",
   "execution_count": 139,
   "id": "6344ec06-987c-4462-b672-abbf8286e270",
   "metadata": {},
   "outputs": [
    {
     "name": "stdout",
     "output_type": "stream",
     "text": [
      "[  1   2   3   4   5   6   7   8   9  10  11  12  13  14  15  16  17  18\n",
      "  19  20  21  22  23  24  25  26  27  28  29  30  31  32  33  34  35  36\n",
      "  37  38  39  40  41  42  43  44  45  46  47  48  49  50  51  52  53  54\n",
      "  55  56  57  58  59  60  61  62  63  64  65  66  67  68  69  70  71  72\n",
      "  73  74  75  76  77  78  79  80  81  82  83  84  85  86  87  88  89  90\n",
      "  91  92  93  94  95  96  97  98  99 100]\n",
      "[ 1  3  5  7  9 11 13 15 17 19 21 23 25 27 29 31 33 35 37 39 41 43 45 47\n",
      " 49 51 53 55 57 59 61 63 65 67 69 71 73 75 77 79 81 83 85 87 89 91 93 95\n",
      " 97 99]\n",
      "[100  98  96  94  92  90  88  86  84  82  80  78  76  74  72  70  68  66\n",
      "  64  62  60  58  56  54  52  50  48  46  44  42  40  38  36  34  32  30\n",
      "  28  26  24  22  20  18  16  14  12  10   8   6   4   2]\n",
      "[  1   0   3   4   0   6   7   0   9  10   0  12  13   0  15  16   0  18\n",
      "  19   0  21  22   0  24  25   0  27  28   0  30  31   0  33  34   0  36\n",
      "  37   0  39  40   0  42  43   0  45  46   0  48  49   0  51  52   0  54\n",
      "  55   0  57  58   0  60  61   0  63  64   0  66  67   0  69  70   0  72\n",
      "  73   0  75  76   0  78  79   0  81  82   0  84  85   0  87  88   0  90\n",
      "  91   0  93  94   0  96  97   0  99 100]\n"
     ]
    }
   ],
   "source": [
    "#Exercice3\n",
    "import numpy as np\n",
    "## 1. Create a NumPy array of dimension 1 that contains all integers from 1 to 100 ordered.\n",
    "integers = np.arange(1, 101)\n",
    "print(integers)\n",
    "\n",
    "## 2. Without using a for loop and using the array created in Q1, create an array that contain all odd integers.\n",
    "all_odd_integers = integers[::2]\n",
    "print(all_odd_integers)\n",
    "\n",
    "## 3. Without using a for loop and using the array created in Q1, create an array that contain all even integers reversed. \n",
    "integers_reversed= integers[::-2]\n",
    "print(integers_reversed)\n",
    "\n",
    "## 4. Using array of Q1, set the value of every 3 elements of the list (starting with the second) to 0. The expected output is:\n",
    "array_with_zeros = integers.copy()  # Make a copy to avoid modifying the original\n",
    "array_with_zeros[1::3] = 0  # Set every 3rd element (starting from index 1) to 0\n",
    "print(array_with_zeros)"
   ]
  },
  {
   "cell_type": "code",
   "execution_count": 3,
   "id": "3314b877-b2a0-4e0d-85f7-7329e638c074",
   "metadata": {
    "scrolled": true
   },
   "outputs": [
    {
     "name": "stdout",
     "output_type": "stream",
     "text": [
      "[-1.76200874e-01  1.88876361e-01  8.26747180e-01 -3.24473146e-02\n",
      " -6.52499418e-01 -1.05339382e-01  2.17776116e-01  5.87281504e-01\n",
      "  1.00237892e-01 -1.09994668e+00 -2.55305389e-01  4.05304381e-01\n",
      "  1.62663953e-01  1.04163462e+00  2.24324184e-01  6.99304449e-01\n",
      " -8.65543512e-01 -1.39346831e+00 -2.36687913e-01 -7.57041911e-01\n",
      "  1.31429195e+00 -9.77385899e-01 -3.59032576e-01  1.16141585e-01\n",
      " -3.51081138e-01 -4.39838344e-01 -4.90995473e-02 -4.31596770e-01\n",
      " -1.08875099e+00 -2.31088106e+00 -1.86236420e+00  2.34708674e-01\n",
      " -8.95585921e-01 -5.40834525e-01 -4.02399061e-01  2.31458561e-02\n",
      "  1.77688506e-01 -5.73309272e-01 -3.38392138e-01 -2.64422114e-03\n",
      "  1.44930339e+00  1.36605641e+00  2.69187461e+00  6.76065035e-01\n",
      " -1.06098418e+00  1.31845313e-01  1.71934297e-01  8.88062794e-02\n",
      "  1.03963016e+00 -1.37846942e-01 -3.69232844e-01  3.19587912e+00\n",
      "  1.11457451e+00 -2.59516296e-01  1.48370897e+00 -1.57049065e+00\n",
      "  9.78899330e-01  1.76070681e+00  3.53121953e-01 -3.08510762e-01\n",
      " -1.40481067e+00 -6.54547811e-01 -1.37791290e+00 -2.42605914e-01\n",
      " -1.17542916e+00  6.96400848e-01  2.84105779e-01 -1.01948195e+00\n",
      "  1.09675079e+00  2.41646711e-01 -3.67039678e-01 -2.19894776e+00\n",
      "  1.41872937e+00  2.20794136e-01  7.92524915e-01 -2.23775806e-01\n",
      " -6.96694068e-01 -9.17717925e-01 -1.47199487e+00  1.87770559e+00\n",
      "  1.51033108e+00  1.18732817e-01  6.50728248e-01 -7.07655562e-01\n",
      "  1.69862924e+00  1.34663117e+00  5.26657670e-01 -6.13561456e-01\n",
      " -1.79179012e-01 -1.28634991e+00  1.41675325e+00 -1.81351151e-01\n",
      " -1.02037575e-01 -6.03250569e-01  1.20489600e+00  9.62265746e-01\n",
      "  8.61170433e-01  1.96244237e+00 -1.15548773e+00  3.45259423e-01]\n",
      "[[ 9  8  4  6  9  1  3  2]\n",
      " [ 3  9  9  5  4  7  2  8]\n",
      " [ 5  6  9  1  1  6  8  7]\n",
      " [ 7  1  4  1 10  4  3  5]\n",
      " [ 5 10  1 10  7 10  6  1]\n",
      " [ 6  8  7  4  6 10  3  5]\n",
      " [ 4 10  7  9  9 10  9  9]\n",
      " [ 5  3  2 10  8  5  5  3]]\n",
      "[[[ 5  2 13 16 15]\n",
      "  [ 5  5  2 11  3]]\n",
      "\n",
      " [[ 8 13  6  4 17]\n",
      "  [ 2  8  1 13 10]]\n",
      "\n",
      " [[12 17 17 12  1]\n",
      "  [10  8 17  5 11]]\n",
      "\n",
      " [[ 9 14  2 15 13]\n",
      "  [12 14  6 14  2]]]\n"
     ]
    }
   ],
   "source": [
    "# Exercise 4\n",
    "import numpy as np\n",
    "# 1 Régler la valeur de départ du générateur aléatoire\n",
    "np.random.seed(888)\n",
    "\n",
    "# 2 Générer un tableau unidimensionnel de taille 100 avec une distribution normale\n",
    "# Moyenne = 0, Écart type = 1 \n",
    "normal_array = np.random.randn(100)\n",
    "print(normal_array)\n",
    "\n",
    "# 3 Générer un tableau bidimensionnel de taille 8x8 avec des entiers aléatoires de 1 à 10\n",
    "\n",
    "random_int_array_2d = np.random.randint(1, 11, size=(8, 8))\n",
    "print(random_int_array_2d)\n",
    "\n",
    "# 4 Générer un tableau tridimensionnel de taille 4x2x5 avec des entiers aléatoires de 1 à 17\n",
    "\n",
    "random_int_array_3d = np.random.randint(1, 18, size=(4, 2, 5))\n",
    "print(random_int_array_3d)"
   ]
  },
  {
   "cell_type": "code",
   "execution_count": 84,
   "id": "d16adcca-aee2-4f15-af47-502d80404ef9",
   "metadata": {},
   "outputs": [
    {
     "name": "stdout",
     "output_type": "stream",
     "text": [
      "[ 1  2  3  4  5  6  7  8  9 10 11 12 13 14 15 16 17 18 19 20 21 22 23 24\n",
      " 25 26 27 28 29 30 31 32 33 34 35 36 37 38 39 40 41 42 43 44 45 46 47 48\n",
      " 49 50]\n",
      "[ 51  52  53  54  55  56  57  58  59  60  61  62  63  64  65  66  67  68\n",
      "  69  70  71  72  73  74  75  76  77  78  79  80  81  82  83  84  85  86\n",
      "  87  88  89  90  91  92  93  94  95  96  97  98  99 100]\n",
      "[  1   2   3   4   5   6   7   8   9  10  11  12  13  14  15  16  17  18\n",
      "  19  20  21  22  23  24  25  26  27  28  29  30  31  32  33  34  35  36\n",
      "  37  38  39  40  41  42  43  44  45  46  47  48  49  50  51  52  53  54\n",
      "  55  56  57  58  59  60  61  62  63  64  65  66  67  68  69  70  71  72\n",
      "  73  74  75  76  77  78  79  80  81  82  83  84  85  86  87  88  89  90\n",
      "  91  92  93  94  95  96  97  98  99 100]\n",
      "[[  1   2   3   4   5   6   7   8   9  10]\n",
      " [ 11  12  13  14  15  16  17  18  19  20]\n",
      " [ 21  22  23  24  25  26  27  28  29  30]\n",
      " [ 31  32  33  34  35  36  37  38  39  40]\n",
      " [ 41  42  43  44  45  46  47  48  49  50]\n",
      " [ 51  52  53  54  55  56  57  58  59  60]\n",
      " [ 61  62  63  64  65  66  67  68  69  70]\n",
      " [ 71  72  73  74  75  76  77  78  79  80]\n",
      " [ 81  82  83  84  85  86  87  88  89  90]\n",
      " [ 91  92  93  94  95  96  97  98  99 100]]\n"
     ]
    }
   ],
   "source": [
    "#Exercise 5\n",
    "import numpy as np\n",
    "\n",
    "# 1: Générer un tableau avec des entiers de 1 à 50\n",
    "array_1_to_50 = np.arange(1, 51)  \n",
    "print(array_1_to_50)\n",
    "\n",
    "# 2: Générer un tableau avec des entiers de 51 à 100\n",
    "array_51_to_100 = np.arange(51, 101)  \n",
    "print(array_51_to_100)\n",
    "\n",
    "# 3: Concatenation des deux tableaux\n",
    "concatenated_array = np.concatenate((array_1_to_50, array_51_to_100))\n",
    "print(concatenated_array)\n",
    "\n",
    "# 4: Remodeler le tableau en une matrice de 10 lignes et 10 colonnes\n",
    "reshaped_array = concatenated_array.reshape(10, 10)\n",
    "\n",
    "print(reshaped_array)\n"
   ]
  },
  {
   "cell_type": "code",
   "execution_count": 21,
   "id": "5c32b2be-34e5-408b-b4ed-6be2aee6f844",
   "metadata": {},
   "outputs": [
    {
     "name": "stdout",
     "output_type": "stream",
     "text": [
      "[[1 1 1 1 1 1 1 1 1]\n",
      " [1 1 1 1 1 1 1 1 1]\n",
      " [1 1 1 1 1 1 1 1 1]\n",
      " [1 1 1 1 1 1 1 1 1]\n",
      " [1 1 1 1 1 1 1 1 1]\n",
      " [1 1 1 1 1 1 1 1 1]\n",
      " [1 1 1 1 1 1 1 1 1]\n",
      " [1 1 1 1 1 1 1 1 1]\n",
      " [1 1 1 1 1 1 1 1 1]]\n",
      "[[1 1 1 1 1 1 1 1 1]\n",
      " [1 0 0 0 0 0 0 0 1]\n",
      " [1 0 1 1 1 1 1 0 1]\n",
      " [1 0 1 0 0 0 1 0 1]\n",
      " [1 0 1 0 1 0 1 0 1]\n",
      " [1 0 1 0 0 0 1 0 1]\n",
      " [1 0 1 1 1 1 1 0 1]\n",
      " [1 0 0 0 0 0 0 0 1]\n",
      " [1 1 1 1 1 1 1 1 1]]\n",
      "[[ 1  2  3]\n",
      " [ 2  4  6]\n",
      " [ 3  6  9]\n",
      " [ 4  8 12]\n",
      " [ 5 10 15]]\n"
     ]
    }
   ],
   "source": [
    "# Exercise 6\n",
    "import numpy as np\n",
    "# Generate a 2-dimensional array of size 9x9, with all elements initialized to 1 and of type int8.\n",
    "array_9x9= np.ones((9,9), dtype=np.int8)\n",
    "print(array_9x9)\n",
    "\n",
    "# Using slicing, create the following array:\n",
    "array_9x9[1:8, 1:8]=0\n",
    "array_9x9[2:7, 2:7]=1\n",
    "array_9x9[3:6, 3:6]=0\n",
    "array_9x9[4:5, 4:5]=1\n",
    "print(array_9x9)\n",
    "\n",
    "# Using broadcasting create an output matrix based on the following two arrays\n",
    "array_1 = np.array([1, 2, 3, 4, 5], dtype=np.int8)\n",
    "array_2 = np.array([1, 2, 3], dtype=np.int8)\n",
    "matrix= array_1[:, np.newaxis]*array_2\n",
    "print(matrix)"
   ]
  },
  {
   "cell_type": "code",
   "execution_count": 40,
   "id": "4f49a3c3-7433-4949-ab04-17ea9622d74c",
   "metadata": {},
   "outputs": [
    {
     "name": "stdout",
     "output_type": "stream",
     "text": [
      "[[ 7.  1.  7.]\n",
      " [nan  2.  2.]\n",
      " [nan  8.  8.]\n",
      " [ 9.  3.  9.]\n",
      " [ 8.  9.  8.]\n",
      " [nan  2.  2.]\n",
      " [ 8.  2.  8.]\n",
      " [nan  6.  6.]\n",
      " [ 9.  2.  9.]\n",
      " [ 8.  5.  8.]]\n"
     ]
    }
   ],
   "source": [
    "# Exercise 7\n",
    "\n",
    "import numpy as np\n",
    "\n",
    "generator = np.random.default_rng(123)\n",
    "grades = np.round(generator.uniform(low = 0.0, high = 10.0, size = (10, 2)))\n",
    "grades[[1,2,5,7], [0,0,0,0]] = np.nan\n",
    "\n",
    "\n",
    "third_column = np.where(np.isnan(grades[:, 0 ]), grades[ :, 1], grades[ :, 0] )\n",
    "grades= np.column_stack((grades, third_column))\n",
    "print(grades)\n"
   ]
  },
  {
   "cell_type": "code",
   "execution_count": 9,
   "id": "00e192f4-9073-4175-843c-54804e65fcdf",
   "metadata": {
    "scrolled": true
   },
   "outputs": [
    {
     "name": "stdout",
     "output_type": "stream",
     "text": [
      "Taille du tableau en octets : 76800\n",
      "[[ 7.4     0.7     0.      1.9     0.076  11.     34.      0.9978  3.51\n",
      "   0.56    9.4     5.    ]\n",
      " [ 7.4     0.66    0.      1.8     0.075  13.     40.      0.9978  3.51\n",
      "   0.56    9.4     5.    ]\n",
      " [ 6.7     0.58    0.08    1.8     0.097  15.     65.      0.9959  3.28\n",
      "   0.54    9.2     5.    ]]\n",
      "There is any wine in the dataset with an alcohol percentage greater than 20% : False \n",
      "\n",
      "Average alcohol percentage across all wines: 10.422983 \n",
      "\n",
      "Statistical measures for pH values:\n",
      "Minimum: 2.74\n",
      "Maximum: 4.01\n",
      "Mean: 3.311113\n",
      "25th Percentile: 3.21\n",
      "50th Percentile (Median): 3.31\n",
      "75th Percentile: 3.4\n",
      "\n",
      " Average quality score of wines with the 20% least sulphate content: 5.1854305\n",
      "\n",
      "Mean of all variables for wines with the best quality :\n",
      "[ 8.566666    0.4233333   0.39111114  2.5777776   0.06844445 13.277778\n",
      " 33.444443    0.99521226  3.2672222   0.76777774 12.094444    8.        ]\n",
      "\n",
      "Mean of all variables for wines with the worst quality :\n",
      "[ 8.359999    0.8845      0.17099999  2.6350002   0.12249999 11.\n",
      " 24.9         0.997464    3.398       0.57000005  9.955       3.        ]\n"
     ]
    }
   ],
   "source": [
    "# Exercice 8\n",
    "\n",
    "# Load the data \n",
    "data = np.genfromtxt('winequality-red.txt', delimiter=';', dtype=np.float32)\n",
    "\n",
    "#verify that the resulting numpy array weighs 76800 bytes.\n",
    "size_in_bytes = data.nbytes\n",
    "print(\"Taille du tableau en octets :\", size_in_bytes)\n",
    "\n",
    "# Display the 2nd, 7th, and 12th rows as a two-dimensional array\n",
    "selected_rows=data[[1, 6, 11], : ]\n",
    "filtered_rows = selected_rows[~np.isnan(selected_rows).any(axis=1)]\n",
    "print(filtered_rows)\n",
    "\n",
    "#Determine if there is any wine in the dataset with an alcohol percentage greater than 20%\n",
    "alcohol_column= data[:, 10]\n",
    "contains_high_alcohol = np.any(alcohol_column > 20)\n",
    "print(\"There is any wine in the dataset with an alcohol percentage greater than 20% :\", contains_high_alcohol, \"\\n\")\n",
    "\n",
    "#Calculate the average alcohol percentage across all wines in the dataset. Exclude np.nan values if present.\n",
    "average_alcohol_percentage = np.nanmean(alcohol_column)\n",
    "print(\"Average alcohol percentage across all wines:\", average_alcohol_percentage, \"\\n\")\n",
    "\n",
    "#Compute various statistical measures \n",
    "ph_column = data[ :, 8]\n",
    "min_ph = np.nanmin(ph_column)\n",
    "max_ph = np.nanmax(ph_column)\n",
    "mean_ph = np.nanmean(ph_column)\n",
    "percentile_25 = np.nanpercentile(ph_column, 25)\n",
    "percentile_50 = np.nanpercentile(ph_column, 50)  # This is the median\n",
    "percentile_75 = np.nanpercentile(ph_column, 75)\n",
    "\n",
    "print(\"Statistical measures for pH values:\")\n",
    "print(\"Minimum:\", min_ph)\n",
    "print(\"Maximum:\", max_ph)\n",
    "print(\"Mean:\", mean_ph)\n",
    "print(\"25th Percentile:\", percentile_25)\n",
    "print(\"50th Percentile (Median):\", percentile_50)\n",
    "print(\"75th Percentile:\", percentile_75)\n",
    "\n",
    "\n",
    "# Average quality score of wines with the 20% least sulphate content.\n",
    "\n",
    "sulphates_column = data[:, 9]\n",
    "quality_column = data[:, 11]\n",
    "\n",
    "# Calculer le 20e percentile de la colonne des sulfates\n",
    "percentile_20 = np.nanpercentile(sulphates_column, 20)\n",
    "\n",
    "# Créer un tableau booléen pour les sulfates inférieurs au 20e percentile\n",
    "low_sulphates_mask = sulphates_column < percentile_20\n",
    "\n",
    "# Sélectionner les notes de qualité correspondantes\n",
    "low_sulphates_quality = quality_column[low_sulphates_mask]\n",
    "\n",
    "# Calculer la moyenne des notes de qualité\n",
    "average_quality_low_sulphates = np.nanmean(low_sulphates_quality)\n",
    "\n",
    "# Afficher le résultat\n",
    "print(\"\\n Average quality score of wines with the 20% least sulphate content:\", average_quality_low_sulphates)\n",
    "\n",
    "#the mean of all variables for wines with the best quality. Also, do the same for wines with the worst quality.\n",
    "\n",
    "max_quality= np.nanmax(quality_column)\n",
    "\n",
    "# Trouver la qualité maximale\n",
    "max_quality = np.nanmax(quality_column)\n",
    "# Créer un masque booléen pour les vins de la meilleure qualité\n",
    "best_quality_mask = quality_column == max_quality\n",
    "# Sous-ensemencer les lignes avec la meilleure qualité\n",
    "best_quality_wines = data[best_quality_mask]\n",
    "# Calculer la moyenne pour les vins de meilleure qualité sur l'axe 0\n",
    "mean_best_quality = np.nanmean(best_quality_wines, axis=0)\n",
    "\n",
    "min_quality = np.nanmin(quality_column)\n",
    "# Créer un masque pour les vins de moins bonne qualité\n",
    "worst_quality_mask = quality_column == min_quality\n",
    "# Sous-ensemencer les lignes avec une qualité inférieure\n",
    "worst_quality_wines = data[worst_quality_mask]\n",
    "# Calculer la moyenne pour les vins de moins bonne qualité sur l'axe 0\n",
    "mean_worst_quality = np.nanmean(worst_quality_wines, axis=0)\n",
    "\n",
    "print(\"\\nMean of all variables for wines with the best quality :\")\n",
    "print(mean_best_quality)\n",
    "\n",
    "print(\"\\nMean of all variables for wines with the worst quality :\")\n",
    "print(mean_worst_quality)\n"
   ]
  },
  {
   "cell_type": "code",
   "execution_count": 13,
   "id": "51af9f80-1d2c-4259-8de6-b756faff80ba",
   "metadata": {},
   "outputs": [
    {
     "data": {
      "text/plain": [
       "array([[0, 1, 2, 3, 5],\n",
       "       [8, 7, 9, 4, 6]])"
      ]
     },
     "execution_count": 13,
     "metadata": {},
     "output_type": "execute_result"
    }
   ],
   "source": [
    "#Exercise 9\n",
    "from itertools import permutations\n",
    "import numpy as np\n",
    "import itertools\n",
    "\n",
    "# Step 1: Load the forecast matrix from file\n",
    "forecast_matrix = np.genfromtxt('model_forecasts.txt', delimiter=',')\n",
    "\n",
    "# Generate all permutations of 10 teams\n",
    "all_permutations = list(permutations(range(10)))\n",
    "\n",
    "# Initialize variable to store the minimum sum of squared differences and the best pairing\n",
    "min_sum_squared_diffs = float('inf')\n",
    "best_pairing = None\n",
    "\n",
    "def calculate_sum_squared_diffs(perm):\n",
    "    team_set1 = perm[:5]\n",
    "    team_set2 = perm[5:]\n",
    "    squared_diffs = np.square([forecast_matrix[i, j] for i, j in zip(team_set1, team_set2)])\n",
    "    return np.sum(squared_diffs), (team_set1, team_set2)\n",
    "\n",
    "# Use map to apply the calculate_sum_squared_diffs function to all permutations\n",
    "results = map(calculate_sum_squared_diffs, all_permutations)\n",
    "\n",
    "# Use min to find the best pairing\n",
    "min_sum_squared_diffs, best_pairing = min(results)\n",
    "\n",
    "result = [list(pair) for pair in zip(best_pairing[0],best_pairing[1])]\n",
    "result_np = np.array(result)\n",
    "\n",
    "# Extract the first and second elements from each sublist\n",
    "first_elements = result_np[:, 0]\n",
    "second_elements = result_np[:, 1]\n",
    "\n",
    "# Construct the wanted_result\n",
    "wanted_result = np.vstack([first_elements, second_elements])    \n",
    "wanted_result\n"
   ]
  },
  {
   "cell_type": "code",
   "execution_count": null,
   "id": "60b29480-11a2-436c-a0ec-8c610b7b6088",
   "metadata": {},
   "outputs": [],
   "source": []
  }
 ],
 "metadata": {
  "kernelspec": {
   "display_name": "Python 3 (ipykernel)",
   "language": "python",
   "name": "python3"
  },
  "language_info": {
   "codemirror_mode": {
    "name": "ipython",
    "version": 3
   },
   "file_extension": ".py",
   "mimetype": "text/x-python",
   "name": "python",
   "nbconvert_exporter": "python",
   "pygments_lexer": "ipython3",
   "version": "3.10.12"
  }
 },
 "nbformat": 4,
 "nbformat_minor": 5
}
